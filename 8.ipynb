{
 "cells": [
  {
   "cell_type": "markdown",
   "id": "eb424cc6",
   "metadata": {},
   "source": [
    "# 대안 체인\n",
    "## 탈 중앙화 블록체인 플랫폼 구축\n",
    "\n",
    "# 대안 코인\n",
    "## 새로운 가상화폐 도입\n",
    "\n",
    "## 대안코인 최초 수량 제공\n",
    "### 새로운 블록체인 생성\n",
    "### 소각 증명 -> 비트코인을 파기하고 알트코인으로 환전\n",
    "### 소유권 증명 -> 비트코인을 파기하는 대신 일정량의 비트코인을 소유하고 있음을 증명\n",
    "### 동결형 사이드체인 -> 비트코인 네트워크와 분리된 블록체인이지만 비트코인과 대안코인 간의 변환이 자유로움\n",
    "\n",
    "\n",
    "# 대안코인의 차별점\n",
    "## 작업 증명의 대안 -> 저장, 지분 ...\n",
    "## 다양한 지분 형태 -> 숙성기간, 보증금, 소각, 활동...\n",
    "## 난이도 조정, 난이도 목표 재설정 알고리즘 -> 비트코인, 키모토 그래비티 웰, 다크 그래비티 웨이브...\n",
    "\n",
    "# 비트코인의 한계\n",
    "## 프라이버시와 익명성 분석 가능 -> 혼성프로토콜 (트랜잭션을 뭉침)\n",
    "\n",
    "# 대안코인의 개발\n",
    "## 합의 알고리즘\n",
    "## 해시 알고리즘\n",
    "## 난이도 조정 알고리즘\n",
    "## 블록 간 시간\n",
    "## 블록 보상\n",
    "## 보상 반감률\n",
    "## 블록 크기와 트랜잭션 크기\n",
    "## 이자율\n",
    "## 코인 숙성도\n",
    "## 코인의 총 공급량\n",
    "## 기존의 코인을 포크하거나 밑바닥부터...\n",
    "\n",
    "### 네임코인, 라이트코인, 프라임코인,지캐시\n",
    "\n",
    "# 이론적 배경은 완성 되었으니 책과 병행하여 비트코인 소스코드를 분석하는 것이 주요 과제\n"
   ]
  },
  {
   "cell_type": "markdown",
   "id": "65e81678",
   "metadata": {},
   "source": []
  },
  {
   "cell_type": "markdown",
   "id": "7dd93faa",
   "metadata": {},
   "source": []
  },
  {
   "cell_type": "markdown",
   "id": "ca03f3f8",
   "metadata": {},
   "source": []
  },
  {
   "cell_type": "markdown",
   "id": "53117763",
   "metadata": {},
   "source": []
  },
  {
   "cell_type": "markdown",
   "id": "114f9981",
   "metadata": {},
   "source": []
  },
  {
   "cell_type": "markdown",
   "id": "94e7abf8",
   "metadata": {},
   "source": []
  },
  {
   "cell_type": "markdown",
   "id": "73eaafca",
   "metadata": {},
   "source": []
  },
  {
   "cell_type": "markdown",
   "id": "bf4ce9c7",
   "metadata": {},
   "source": []
  },
  {
   "cell_type": "markdown",
   "id": "8d246679",
   "metadata": {},
   "source": []
  }
 ],
 "metadata": {
  "kernelspec": {
   "display_name": "Python 3",
   "language": "python",
   "name": "python3"
  },
  "language_info": {
   "codemirror_mode": {
    "name": "ipython",
    "version": 3
   },
   "file_extension": ".py",
   "mimetype": "text/x-python",
   "name": "python",
   "nbconvert_exporter": "python",
   "pygments_lexer": "ipython3",
   "version": "3.8.8"
  }
 },
 "nbformat": 4,
 "nbformat_minor": 5
}
