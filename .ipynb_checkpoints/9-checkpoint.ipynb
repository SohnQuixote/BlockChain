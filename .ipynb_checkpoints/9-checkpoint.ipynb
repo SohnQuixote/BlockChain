{
 "cells": [
  {
   "cell_type": "markdown",
   "id": "9525a5dd",
   "metadata": {},
   "source": [
    "# 스마트 계약\n",
    "## 계약조건을 실행하는 전자 거래 프로토콜\n",
    "## 정의 - 자동 실행, 강제 집행 계약, 중지 불가능 프로그램\n",
    "## 코드 -> 법 -> 3자 개입 X (자체 집행)\n",
    "## 상태머신을 활용\n",
    "\n",
    "# 스마트 계약의 특성\n",
    "## 자동 실행\n",
    "## 강제 집행\n",
    "## 의미론적 건전\n",
    "## 안전, 중지 불가능\n",
    "\n",
    "# 리카도 계약\n",
    "## 스마트 계약이 실행에 초점을 맞췄다면 리카도 계약은 의미에 초점을 맞춤\n",
    "## 인간 이해에 중점 -> 법적 구속력 가능\n",
    "\n",
    "# 도메인 특화 언어\n",
    "## 여러 도메인에 특화된 언어로 스마트계약을 구현가능\n",
    "## 그중 솔리디티는 블록체인에 특화된 언어임\n",
    "\n",
    "# Oracle \n",
    "## 스마트 계약 만으로는 실행에 필요한 외부데이터를 갖고올 수 없음\n",
    "## Oracle을 활용하여 필요한 외부데이터를 갖고옴 -> 탈중앙화라는 블록체인의 기본적 개념을 해칠 우려가 있음\n",
    "\n",
    "# 비트코인 스마트 계약\n",
    "## nLockTime 같은 로크를 특정시간/조건 후에 해제하는 로킹스크립트를 할용하여 \n",
    "## 한정적인 스마트 계약을 구현 가능\n",
    "\n",
    "# 결정론\n",
    "## 현실의 개념을 수학적으로 옮기는 형식언어 과정을 거치고 만들어진 스마트계약에서\n",
    "## 버그는 존재하면 안된다. 존재할 경우 이더리움과 같이 아예 하드포크해야 할 수 도 있음"
   ]
  }
 ],
 "metadata": {
  "kernelspec": {
   "display_name": "Python 3",
   "language": "python",
   "name": "python3"
  },
  "language_info": {
   "codemirror_mode": {
    "name": "ipython",
    "version": 3
   },
   "file_extension": ".py",
   "mimetype": "text/x-python",
   "name": "python",
   "nbconvert_exporter": "python",
   "pygments_lexer": "ipython3",
   "version": "3.8.8"
  }
 },
 "nbformat": 4,
 "nbformat_minor": 5
}
