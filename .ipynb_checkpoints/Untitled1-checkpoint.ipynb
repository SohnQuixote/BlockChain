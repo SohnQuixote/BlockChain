{
 "cells": [
  {
   "cell_type": "markdown",
   "id": "7338b19d",
   "metadata": {},
   "source": [
    "# 암호화를 위한 수학적 개념\n",
    "\n",
    "# 수학적 개념\n",
    "## 집합 (set)\n",
    "### 구별되는 대상들의 모음\n",
    "\n",
    "## 군 (group)\n",
    "### 집합의 두 원소를 결합하는 연산이 성립하는 교환 집합\n",
    "### -> 군의 연산은 닫혀 있으며 연관된 항등원 정의 , 역원 존재\n",
    "### ex) 해당 집합에 있는 A와 B를 특정 연산을 할 경우 그 결과가 해당 집합에 속해있을 경우 닫혀있다.\n",
    "\n",
    "## 체 (field)\n",
    "### 덧셈군, 곱셈군을 모두 포함하는 집합\n",
    "### 집합의 모든 요소가 덧셈군, 곱셈군을 형성\n",
    "\n",
    "## 유한체 (finite field)\n",
    "### 원소가 유한집합인 체\n",
    "### 유한 소체(prime finite field)는 타원 곡선 암호화(ECC)에서 이산로그 문제를 구성하는데 사용\n",
    "\n",
    "## 위수 (order)\n",
    "### 체의 크기\n",
    "\n",
    "## 아벨 군\n",
    "### 집합의 원소에 대한 연산이 교환법칙을 성립할 경우\n",
    "\n",
    "## 소체 (prime field)\n",
    "### 원소의 개수가 소수인 유한체\n",
    "\n",
    "## 환(ring)\n",
    "### 아벨 군에 연산을 둘 이상 정의 할 수 있는 경우 환\n",
    "### 닫혀있어야 하며 결합,분배 법칙을 만족\n",
    "\n",
    "## 순환 군(cycle group)\n",
    "### 군 생성원이라고 하는 단일 원소에 의해 생성 가능한 군의 한 종류\n",
    "\n",
    "\n",
    "## 모듈려 연산(modular arithmetic)\n",
    "### ex) 50 mod 11 = 6\n",
    "### 암호학에서 많이 사용되는 연산"
   ]
  },
  {
   "cell_type": "markdown",
   "id": "ceb16493",
   "metadata": {},
   "source": [
    "# 암호화\n",
    "\n",
    "## 기밀성\n",
    "### 인가된 개체만 정보 사용 보장\n",
    "\n",
    "## 무결성\n",
    "### 인가된 개체만 정보 수정 보장\n",
    "\n",
    "## 인증\n",
    "### 개체의 아이덴티티 또는 메시지의 유효성 보장\n",
    "\n",
    "## 개체 인증\n",
    "### 해당 개체가 통신에 참여하고 있다는 것을 인증\n",
    "### ex) 아이디 비번 , 지문/홍채 인식\n",
    "\n",
    "## 출처 인증\n",
    "### 정보의 출처가 확실히 검증 보장\n",
    "\n",
    "## 부인 방지\n",
    "### 명백한 증거를 제공함으로써 개체가 이전의 약속이나 행위를 부정 못하게 보장\n",
    "\n",
    "## 책임 추적성\n",
    "### 개체의 행위를 추적"
   ]
  },
  {
   "cell_type": "markdown",
   "id": "6c3e5940",
   "metadata": {},
   "source": [
    "# 대칭 암호화\n",
    "### 데이터를 암호화 하는 키와 복호화 하는키가 동일한 형태의 암호화\n",
    "### 블록암호, 스트림 암호 존재\n",
    "\n",
    "## 스트림 암호\n",
    "### 키 수열을 사용해 비트 단위로 평문에 암호화를 적용 -> 보통 XOR 연산을 사용\n",
    "### 동기 스트림 암호 -> 키 수열이 키에만 종속\n",
    "### 비동기 스트림 암호 -> 키 수열이 암호화된 데이터에도 종속\n",
    "\n",
    "## 블록 암호\n",
    "### 파이스텔 암호 -> 데이터를 2개의 블록으로 나누고 키를 사용하는 라운드함수를 반복해 암호화\n",
    "### 대치-치환망 -> 대치와 치환의 연산을 조합"
   ]
  },
  {
   "cell_type": "code",
   "execution_count": null,
   "id": "dfa47e9f",
   "metadata": {},
   "outputs": [],
   "source": []
  },
  {
   "cell_type": "code",
   "execution_count": null,
   "id": "290b58fb",
   "metadata": {},
   "outputs": [],
   "source": []
  },
  {
   "cell_type": "code",
   "execution_count": null,
   "id": "f2b04d6b",
   "metadata": {},
   "outputs": [],
   "source": []
  }
 ],
 "metadata": {
  "kernelspec": {
   "display_name": "Python 3",
   "language": "python",
   "name": "python3"
  },
  "language_info": {
   "codemirror_mode": {
    "name": "ipython",
    "version": 3
   },
   "file_extension": ".py",
   "mimetype": "text/x-python",
   "name": "python",
   "nbconvert_exporter": "python",
   "pygments_lexer": "ipython3",
   "version": "3.8.8"
  }
 },
 "nbformat": 4,
 "nbformat_minor": 5
}
