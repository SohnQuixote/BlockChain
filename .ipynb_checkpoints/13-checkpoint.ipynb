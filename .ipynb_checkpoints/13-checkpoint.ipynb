{
 "cells": [
  {
   "cell_type": "markdown",
   "id": "1898eff2",
   "metadata": {},
   "source": [
    "# 개발도구 및 프레임워크\n",
    "\n",
    "## 리믹스, 가나슈, 이더리움JS, 테스트RPC, 메타마스크, 트러플\n",
    "## 언어 - 다양한 언어가 존재하지만 솔리디티를 사용할 예정\n",
    "## 개념은 대략적으로 완성된것으로 보여 세세한 부분을 공부하거나 실제 구현을 하는 과정이 필요함\n",
    "\n",
    "# 솔리디티\n",
    "\n",
    "## 데이터 타입\n",
    "\n",
    "### 값타입 - 불 타입, 정수 타입, 주소 타입, 배열 값 타입, 리터럴, 열거 타입, 함수타입\n",
    "### 참조 타입 - 배열 , 구조체, 데이터 위치, 매핑(딕셔너리), 전역 변수\n",
    "\n",
    "## 제어구조\n",
    "\n",
    "### 조건,반복\n",
    "### 이벤트 - EVM로그의 특정 이벤트를 저장하는 데 사용\n",
    "### 상속, 라이브러리, 함수\n",
    "### 함수 정의 방법 \n",
    "function <함수명> (<파라미터들>) <접근 한정자>\n",
    "returns (<리턴 데이터 타입> <변수명>)\n",
    "{\n",
    "    <함수 본문>\n",
    "}\n",
    "\n",
    "### 함수 노출도 지정자 - external( 다른 계약 및 트랜잭션에서 함수 접근가능), public (기본 값, 함수를 공용으로), internal(부모계약에서 파생된 계약에서만 접근 가능 내부함수), private(선언한 그 계약에서만 접근가능)\n",
    "\n",
    "### 함수 한정자 - pure(접근 및 수정금지) , view(상태 수정 불가능), payable(이더지불 허용) , constant(상태에 대한 접근이나 허용 불가능)\n",
    "\n",
    "### 폴백 함수 - 계약의 함수이며 이더를 받을때 마다 실행되는 함수 함수 한정자는 payable"
   ]
  }
 ],
 "metadata": {
  "kernelspec": {
   "display_name": "Python 3",
   "language": "python",
   "name": "python3"
  },
  "language_info": {
   "codemirror_mode": {
    "name": "ipython",
    "version": 3
   },
   "file_extension": ".py",
   "mimetype": "text/x-python",
   "name": "python",
   "nbconvert_exporter": "python",
   "pygments_lexer": "ipython3",
   "version": "3.8.8"
  }
 },
 "nbformat": 4,
 "nbformat_minor": 5
}
