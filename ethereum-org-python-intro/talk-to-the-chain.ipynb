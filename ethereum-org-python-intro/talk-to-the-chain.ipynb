{
 "cells": [
  {
   "cell_type": "code",
   "execution_count": 1,
   "id": "4a367359-9111-48e3-8e67-24fc21669007",
   "metadata": {},
   "outputs": [],
   "source": [
    "from web3 import Web3"
   ]
  },
  {
   "cell_type": "markdown",
   "id": "274a1e6b-62af-42e4-9f6a-8c7e7bb50b4f",
   "metadata": {},
   "source": [
    "Configuring Web3.py to communicate with an Ethereum node.\n",
    "\n",
    "Option to use IPC, HTTP, or Websocket providers."
   ]
  },
  {
   "cell_type": "markdown",
   "id": "81a9b534-6ca5-4aee-8951-2b4039b4a2f2",
   "metadata": {},
   "source": [
    "The legit full way is:\n",
    "+ Download an Ethereum node (such as Geth)\n",
    "+ Start Geth in one terminal and wait for it to sync the network. The default HTTP port is 8545, but is configurable.\n",
    "+ Tell Web3.py to connect to the node via HTTP on localhost:8545 by `w3 = Web3(Web3.HTTPProvider('http:localhost:8545`\n",
    "+ Use the w3 instance to interact with the node."
   ]
  },
  {
   "cell_type": "markdown",
   "id": "94855776-0c5c-4772-a30d-e923d0b06ddd",
   "metadata": {},
   "source": [
    "For tutorial purposes, we are going to use `EthereumTesterProvider`, which is a simulated ethereum node with fake currency."
   ]
  },
  {
   "cell_type": "code",
   "execution_count": 3,
   "id": "1ca0972c-f583-4f10-bc7c-a22bd807fd0d",
   "metadata": {},
   "outputs": [],
   "source": [
    "# configuring w3.py to use tester node\n",
    "w3 = Web3(Web3.EthereumTesterProvider())"
   ]
  },
  {
   "cell_type": "code",
   "execution_count": 4,
   "id": "95a5d72a-0e81-453f-820a-a0b434ad2f79",
   "metadata": {},
   "outputs": [
    {
     "name": "stderr",
     "output_type": "stream",
     "text": [
      "/opt/homebrew/Caskroom/miniconda/base/envs/default/lib/python3.9/site-packages/ipykernel/ipkernel.py:283: DeprecationWarning: `should_run_async` will not call `transform_cell` automatically in the future. Please pass the result to `transformed_cell` argument and any exception that happen during thetransform in `preprocessing_exc_tuple` in IPython 7.17 and above.\n",
      "  and should_run_async(code)\n"
     ]
    },
    {
     "data": {
      "text/plain": [
       "<web3.main.Web3 at 0x7fb3b01afee0>"
      ]
     },
     "execution_count": 4,
     "metadata": {},
     "output_type": "execute_result"
    }
   ],
   "source": [
    "w3"
   ]
  },
  {
   "cell_type": "code",
   "execution_count": 5,
   "id": "139f0fea-7239-4929-86c0-644241dc18b4",
   "metadata": {},
   "outputs": [
    {
     "data": {
      "text/plain": [
       "True"
      ]
     },
     "execution_count": 5,
     "metadata": {},
     "output_type": "execute_result"
    }
   ],
   "source": [
    "# sanity check\n",
    "w3.isConnected()"
   ]
  },
  {
   "cell_type": "code",
   "execution_count": 8,
   "id": "d39361a2-8d35-4ec7-a679-f27305c9ab20",
   "metadata": {},
   "outputs": [
    {
     "data": {
      "text/plain": [
       "['0x7E5F4552091A69125d5DfCb7b8C2659029395Bdf',\n",
       " '0x2B5AD5c4795c026514f8317c7a215E218DcCD6cF',\n",
       " '0x6813Eb9362372EEF6200f3b1dbC3f819671cBA69',\n",
       " '0x1efF47bc3a10a45D4B230B5d10E37751FE6AA718',\n",
       " '0xe1AB8145F7E55DC933d51a18c793F901A3A0b276',\n",
       " '0xE57bFE9F44b819898F47BF37E5AF72a0783e1141',\n",
       " '0xd41c057fd1c78805AAC12B0A94a405c0461A6FBb',\n",
       " '0xF1F6619B38A98d6De0800F1DefC0a6399eB6d30C',\n",
       " '0xF7Edc8FA1eCc32967F827C9043FcAe6ba73afA5c',\n",
       " '0x4CCeBa2d7D2B4fdcE4304d3e09a1fea9fbEb1528']"
      ]
     },
     "execution_count": 8,
     "metadata": {},
     "output_type": "execute_result"
    }
   ],
   "source": [
    "# public addresses; like account number\n",
    "w3.eth.accounts"
   ]
  },
  {
   "cell_type": "code",
   "execution_count": 11,
   "id": "452ed39f-c60b-47e6-b9a1-0f8c98a8f018",
   "metadata": {},
   "outputs": [],
   "source": [
    "# see balance\n",
    "balance = w3.eth.get_balance(w3.eth.accounts[0]) # units in wei"
   ]
  },
  {
   "cell_type": "code",
   "execution_count": 12,
   "id": "e4b6947a-2d4b-4c56-8f23-f017c3b09def",
   "metadata": {},
   "outputs": [
    {
     "data": {
      "text/plain": [
       "1000000000000000000000000"
      ]
     },
     "execution_count": 12,
     "metadata": {},
     "output_type": "execute_result"
    }
   ],
   "source": [
    "balance"
   ]
  },
  {
   "cell_type": "code",
   "execution_count": 13,
   "id": "4d0f40c4-461f-4d85-86b9-01ada5199051",
   "metadata": {},
   "outputs": [
    {
     "data": {
      "text/plain": [
       "Decimal('1000000')"
      ]
     },
     "execution_count": 13,
     "metadata": {},
     "output_type": "execute_result"
    }
   ],
   "source": [
    "# convert wei to eth\n",
    "w3.fromWei(balance, 'ether')"
   ]
  },
  {
   "cell_type": "markdown",
   "id": "818f5d62-35d8-4551-94a6-8488eee4d96e",
   "metadata": {},
   "source": [
    "## Block Data"
   ]
  },
  {
   "cell_type": "code",
   "execution_count": 14,
   "id": "3e40d21c-9611-4255-ac5d-5853b650ce9f",
   "metadata": {},
   "outputs": [
    {
     "data": {
      "text/plain": [
       "AttributeDict({'number': 0,\n",
       " 'hash': HexBytes('0x7ad665ee43016c92b04999b8c40eefa1cb37123e9cc7e7564c7314e1b530d92d'),\n",
       " 'parentHash': HexBytes('0x0000000000000000000000000000000000000000000000000000000000000000'),\n",
       " 'nonce': HexBytes('0x000000000000002a'),\n",
       " 'sha3Uncles': HexBytes('0x1dcc4de8dec75d7aab85b567b6ccd41ad312451b948a7413f0a142fd40d49347'),\n",
       " 'logs_bloom': 0,\n",
       " 'transactionsRoot': HexBytes('0x56e81f171bcc55a6ff8345e692c0f86e5b48e01b996cadc001622fb5e363b421'),\n",
       " 'receipts_root': '0x56e81f171bcc55a6ff8345e692c0f86e5b48e01b996cadc001622fb5e363b421',\n",
       " 'stateRoot': HexBytes('0xf1588db9a9f1ed91effabdec31f93cb4212b008c8b8ba047fd55fabebf6fd727'),\n",
       " 'miner': '0x0000000000000000000000000000000000000000',\n",
       " 'difficulty': 131072,\n",
       " 'totalDifficulty': 131072,\n",
       " 'size': 511,\n",
       " 'extraData': HexBytes('0x0000000000000000000000000000000000000000000000000000000000000000'),\n",
       " 'gasLimit': 3141592,\n",
       " 'gasUsed': 0,\n",
       " 'timestamp': 1626942375,\n",
       " 'transactions': [],\n",
       " 'uncles': []})"
      ]
     },
     "execution_count": 14,
     "metadata": {},
     "output_type": "execute_result"
    }
   ],
   "source": [
    "# what is inside a block?\n",
    "w3.eth.get_block('latest')"
   ]
  },
  {
   "cell_type": "markdown",
   "id": "aa92409a-12f8-4977-979e-209faffaa52b",
   "metadata": {},
   "source": [
    "In this simulation environment, blocks are not mined every 15 seconds. So we are looking at a brand new genesis block. You can tell that it is a genesis block because its `parentHash` is all zeros."
   ]
  },
  {
   "cell_type": "markdown",
   "id": "f9f14bda-ac15-41d5-977d-1c8986abcdef",
   "metadata": {},
   "source": [
    "## First Transaction\n",
    "\n",
    "Sendiing a few test ether from one account to another. This will trigger mining."
   ]
  },
  {
   "cell_type": "code",
   "execution_count": 16,
   "id": "ffd1bcc5-0ed7-4580-8ca1-b97fd248fd99",
   "metadata": {},
   "outputs": [],
   "source": [
    "tx_hash = w3.eth.send_transaction({\n",
    "    'from': w3.eth.accounts[0],\n",
    "    'to': w3.eth.accounts[1],\n",
    "    'value': w3.toWei(3, 'ether')\n",
    "})"
   ]
  },
  {
   "cell_type": "markdown",
   "id": "2e8fde6e-d7a8-4567-a0f5-7effd434fac1",
   "metadata": {},
   "source": [
    "In the real world, you would have to wait several seconds until this gets mined (confirmed). In test environment, it is immediate."
   ]
  },
  {
   "cell_type": "code",
   "execution_count": 17,
   "id": "e5e836ec-08b3-47cc-a557-07c819aa52d0",
   "metadata": {},
   "outputs": [
    {
     "data": {
      "text/plain": [
       "AttributeDict({'transactionHash': HexBytes('0x15e9fb95dc39da2d70f4cc41556bd092c68a97a04892426a064e321bfe78662a'),\n",
       " 'transactionIndex': 0,\n",
       " 'blockNumber': 1,\n",
       " 'blockHash': HexBytes('0x3780f9ec642491d5d702c710bf03622db84a4df774975861a36de7afb97ff962'),\n",
       " 'cumulativeGasUsed': 21000,\n",
       " 'gasUsed': 21000,\n",
       " 'contractAddress': None,\n",
       " 'logs': [],\n",
       " 'status': 1})"
      ]
     },
     "execution_count": 17,
     "metadata": {},
     "output_type": "execute_result"
    }
   ],
   "source": [
    "# checking if transaction has been mined:\n",
    "w3.eth.wait_for_transaction_receipt(tx_hash)"
   ]
  },
  {
   "cell_type": "code",
   "execution_count": 18,
   "id": "1276a996-17f2-4718-91ea-9ebfc9a0fb0e",
   "metadata": {},
   "outputs": [
    {
     "data": {
      "text/plain": [
       "AttributeDict({'hash': HexBytes('0x15e9fb95dc39da2d70f4cc41556bd092c68a97a04892426a064e321bfe78662a'),\n",
       " 'nonce': 0,\n",
       " 'blockHash': HexBytes('0x3780f9ec642491d5d702c710bf03622db84a4df774975861a36de7afb97ff962'),\n",
       " 'blockNumber': 1,\n",
       " 'transactionIndex': 0,\n",
       " 'from': '0x7E5F4552091A69125d5DfCb7b8C2659029395Bdf',\n",
       " 'to': '0x2B5AD5c4795c026514f8317c7a215E218DcCD6cF',\n",
       " 'value': 3000000000000000000,\n",
       " 'gas': 121000,\n",
       " 'gasPrice': 1,\n",
       " 'data': '0x',\n",
       " 'v': 28,\n",
       " 'r': HexBytes('0x11bebd35f91582f55dc180dcfc1c5ccad48dadc207802727f7ac997df6490b22'),\n",
       " 's': HexBytes('0x697db707f5b7cc4d3a3196b434b0d5616300b8afbe8a21ab47ed9335252e4ebd')})"
      ]
     },
     "execution_count": 18,
     "metadata": {},
     "output_type": "execute_result"
    }
   ],
   "source": [
    "# viewing completed transaction\n",
    "w3.eth.get_transaction(tx_hash)"
   ]
  },
  {
   "cell_type": "code",
   "execution_count": 19,
   "id": "0fcb3e03-62ce-4098-b976-ce5267f3701f",
   "metadata": {},
   "outputs": [
    {
     "data": {
      "text/plain": [
       "999996999999999999979000"
      ]
     },
     "execution_count": 19,
     "metadata": {},
     "output_type": "execute_result"
    }
   ],
   "source": [
    "# verify success of transaction by checking account balances\n",
    "w3.eth.get_balance(w3.eth.accounts[0])"
   ]
  },
  {
   "cell_type": "markdown",
   "id": "6866a320-c8cc-492b-b1e2-f69027b69a6b",
   "metadata": {},
   "source": [
    "Notice how 21000 additional wei have been spent as gas fees."
   ]
  },
  {
   "cell_type": "code",
   "execution_count": 20,
   "id": "bf288302-9244-4f34-9e29-abd80c9c61da",
   "metadata": {},
   "outputs": [
    {
     "data": {
      "text/plain": [
       "1000003000000000000000000"
      ]
     },
     "execution_count": 20,
     "metadata": {},
     "output_type": "execute_result"
    }
   ],
   "source": [
    "w3.eth.get_balance(w3.eth.accounts[1])"
   ]
  },
  {
   "cell_type": "code",
   "execution_count": null,
   "id": "f9c96e58-62a5-4fc1-ae2e-60f7d7572d4b",
   "metadata": {},
   "outputs": [],
   "source": []
  }
 ],
 "metadata": {
  "kernelspec": {
   "display_name": "Python 3",
   "language": "python",
   "name": "python3"
  },
  "language_info": {
   "codemirror_mode": {
    "name": "ipython",
    "version": 3
   },
   "file_extension": ".py",
   "mimetype": "text/x-python",
   "name": "python",
   "nbconvert_exporter": "python",
   "pygments_lexer": "ipython3",
   "version": "3.9.5"
  }
 },
 "nbformat": 4,
 "nbformat_minor": 5
}
