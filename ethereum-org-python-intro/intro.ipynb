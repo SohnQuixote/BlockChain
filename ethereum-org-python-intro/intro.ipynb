{
 "cells": [
  {
   "cell_type": "code",
   "execution_count": 1,
   "id": "86028958-f4dd-4bef-8ecb-7805d1e15303",
   "metadata": {},
   "outputs": [],
   "source": [
    "import hashlib"
   ]
  },
  {
   "cell_type": "markdown",
   "id": "ea6ea3f3-be45-4b36-8b80-69d727babb7d",
   "metadata": {},
   "source": [
    "# [A Python Developer's Introduction to Ethereum](https://ethereum.org/en/developers/tutorials/a-developers-guide-to-ethereum-part-one/)"
   ]
  },
  {
   "cell_type": "markdown",
   "id": "f5935fbd-0da7-40c5-a263-419fd8ae4591",
   "metadata": {},
   "source": [
    "For this tutorial, we represent a block on a blockchain as a python dictionary:"
   ]
  },
  {
   "cell_type": "code",
   "execution_count": 2,
   "id": "c0a558e8-538e-47b3-b477-06ce7466f93a",
   "metadata": {},
   "outputs": [],
   "source": [
    "def generate_hash(value):\n",
    "    if isinstance(value, str):\n",
    "        value = value.encode(encoding='UTF-8')\n",
    "    hashed = hashlib.sha3_256(bytes(value)) # Ethereum uses SHA3 (Keccak)\n",
    "    return hashed.hexdigest()"
   ]
  },
  {
   "cell_type": "code",
   "execution_count": 3,
   "id": "4fcf1979-6287-434e-b945-1ccf535583a9",
   "metadata": {},
   "outputs": [],
   "source": [
    "miner = \"jasonsohn\""
   ]
  },
  {
   "cell_type": "code",
   "execution_count": 4,
   "id": "db8743ee-a958-4080-b6c1-1ebf02acf13a",
   "metadata": {},
   "outputs": [],
   "source": [
    "parent = 1234566"
   ]
  },
  {
   "cell_type": "code",
   "execution_count": 5,
   "id": "f808b3a2-b17d-41f6-a788-1039bf758bf9",
   "metadata": {},
   "outputs": [],
   "source": [
    "number = 1234567"
   ]
  },
  {
   "cell_type": "code",
   "execution_count": 6,
   "id": "8ad3a701-44e3-46ab-8d7a-5c458a00d9ba",
   "metadata": {},
   "outputs": [],
   "source": [
    "block_1 = {\n",
    "    \"number\": number,\n",
    "    \"hash\" : generate_hash(number),\n",
    "    \"parentHash\": generate_hash(parent),\n",
    "    \"miner\": generate_hash(miner),\n",
    "    \"transactions\": [None]\n",
    "}"
   ]
  },
  {
   "cell_type": "code",
   "execution_count": 7,
   "id": "4cbee841-0aef-488c-8a1b-673aeae09ecb",
   "metadata": {},
   "outputs": [
    {
     "data": {
      "text/plain": [
       "{'number': 1234567,\n",
       " 'hash': '9faf5760fbcc9aa060dcc6bc2aec88f59d6d9fe03dc1f97c198fbeabf2650aa1',\n",
       " 'parentHash': 'ca178a2aeecde07a66820161f73acdcce94f83ab0a4d47840484f652ca7dc10e',\n",
       " 'miner': '62ec575f0048caeb413a41879f1e93453f3efb3ba319e51f1f3ce4d14e8b0c93',\n",
       " 'transactions': [None]}"
      ]
     },
     "execution_count": 7,
     "metadata": {},
     "output_type": "execute_result"
    }
   ],
   "source": [
    "block_1"
   ]
  },
  {
   "cell_type": "code",
   "execution_count": 8,
   "id": "3dd48ae3-8af6-4117-95c4-af9a38420b9f",
   "metadata": {},
   "outputs": [],
   "source": [
    "class Block:\n",
    "    \n",
    "    def __init__(self, miner, parent, number):\n",
    "        self.miner = generate_hash(miner)\n",
    "        self.parent = parent\n",
    "        self.number = number"
   ]
  },
  {
   "cell_type": "markdown",
   "id": "4e5cadcd-914e-4e66-8813-9a90dff9f392",
   "metadata": {},
   "source": [
    "## Installing web3"
   ]
  },
  {
   "cell_type": "code",
   "execution_count": 9,
   "id": "5b2d346f-2465-4a85-8b52-d4c8f5811968",
   "metadata": {},
   "outputs": [
    {
     "name": "stdout",
     "output_type": "stream",
     "text": [
      "Collecting web3\n",
      "  Downloading web3-5.21.0-py3-none-any.whl (482 kB)\n",
      "\u001b[K     |████████████████████████████████| 482 kB 1.9 MB/s eta 0:00:01\n",
      "\u001b[?25hCollecting eth-utils<2.0.0,>=1.9.5\n",
      "  Downloading eth_utils-1.10.0-py3-none-any.whl (24 kB)\n",
      "Collecting lru-dict<2.0.0,>=1.1.6\n",
      "  Downloading lru-dict-1.1.7.tar.gz (10 kB)\n",
      "Collecting ipfshttpclient==0.7.0\n",
      "  Downloading ipfshttpclient-0.7.0-py3-none-any.whl (82 kB)\n",
      "\u001b[K     |████████████████████████████████| 82 kB 7.8 MB/s s eta 0:00:01\n",
      "\u001b[?25hCollecting eth-typing<3.0.0,>=2.0.0\n",
      "  Downloading eth_typing-2.2.2-py3-none-any.whl (6.2 kB)\n",
      "Collecting protobuf<4,>=3.10.0\n",
      "  Downloading protobuf-3.17.3-cp39-cp39-macosx_10_9_x86_64.whl (1.0 MB)\n",
      "\u001b[K     |████████████████████████████████| 1.0 MB 51.2 MB/s eta 0:00:01\n",
      "\u001b[?25hCollecting websockets<10,>=9.1\n",
      "  Downloading websockets-9.1-cp39-cp39-macosx_10_9_x86_64.whl (88 kB)\n",
      "\u001b[K     |████████████████████████████████| 88 kB 10.6 MB/s eta 0:00:01\n",
      "\u001b[?25hCollecting aiohttp<4,>=3.7.4.post0\n",
      "  Downloading aiohttp-3.7.4.post0-cp39-cp39-macosx_10_14_x86_64.whl (649 kB)\n",
      "\u001b[K     |████████████████████████████████| 649 kB 65.7 MB/s eta 0:00:01\n",
      "\u001b[?25hRequirement already satisfied: requests<3.0.0,>=2.16.0 in /opt/homebrew/Caskroom/miniconda/base/envs/default/lib/python3.9/site-packages (from web3) (2.25.1)\n",
      "Collecting eth-abi<3.0.0,>=2.0.0b6\n",
      "  Downloading eth_abi-2.1.1-py3-none-any.whl (27 kB)\n",
      "Collecting eth-account<0.6.0,>=0.5.3\n",
      "  Downloading eth_account-0.5.5-py3-none-any.whl (100 kB)\n",
      "\u001b[K     |████████████████████████████████| 100 kB 36.4 MB/s ta 0:00:01\n",
      "\u001b[?25hRequirement already satisfied: jsonschema<4.0.0,>=3.2.0 in /opt/homebrew/Caskroom/miniconda/base/envs/default/lib/python3.9/site-packages (from web3) (3.2.0)\n",
      "Collecting eth-hash[pycryptodome]<1.0.0,>=0.2.0\n",
      "  Downloading eth_hash-0.3.1-py3-none-any.whl (8.9 kB)\n",
      "Collecting hexbytes<1.0.0,>=0.1.0\n",
      "  Downloading hexbytes-0.2.1-py3-none-any.whl (6.0 kB)\n",
      "Collecting multiaddr>=0.0.7\n",
      "  Downloading multiaddr-0.0.9-py2.py3-none-any.whl (16 kB)\n",
      "Collecting multidict<7.0,>=4.5\n",
      "  Downloading multidict-5.1.0-cp39-cp39-macosx_10_14_x86_64.whl (49 kB)\n",
      "\u001b[K     |████████████████████████████████| 49 kB 24.3 MB/s eta 0:00:01\n",
      "\u001b[?25hRequirement already satisfied: chardet<5.0,>=2.0 in /opt/homebrew/Caskroom/miniconda/base/envs/default/lib/python3.9/site-packages (from aiohttp<4,>=3.7.4.post0->web3) (4.0.0)\n",
      "Requirement already satisfied: typing-extensions>=3.6.5 in /opt/homebrew/Caskroom/miniconda/base/envs/default/lib/python3.9/site-packages (from aiohttp<4,>=3.7.4.post0->web3) (3.10.0.0)\n",
      "Collecting yarl<2.0,>=1.0\n",
      "  Downloading yarl-1.6.3-cp39-cp39-macosx_10_14_x86_64.whl (124 kB)\n",
      "\u001b[K     |████████████████████████████████| 124 kB 72.8 MB/s eta 0:00:01\n",
      "\u001b[?25hCollecting async-timeout<4.0,>=3.0\n",
      "  Downloading async_timeout-3.0.1-py3-none-any.whl (8.2 kB)\n",
      "Requirement already satisfied: attrs>=17.3.0 in /opt/homebrew/Caskroom/miniconda/base/envs/default/lib/python3.9/site-packages (from aiohttp<4,>=3.7.4.post0->web3) (21.2.0)\n",
      "Collecting parsimonious<0.9.0,>=0.8.0\n",
      "  Downloading parsimonious-0.8.1.tar.gz (45 kB)\n",
      "\u001b[K     |████████████████████████████████| 45 kB 17.4 MB/s eta 0:00:01\n",
      "\u001b[?25hCollecting eth-keyfile<0.6.0,>=0.5.0\n",
      "  Downloading eth_keyfile-0.5.1-py3-none-any.whl (8.3 kB)\n",
      "Collecting rlp<3,>=1.0.0\n",
      "  Downloading rlp-2.0.1-py2.py3-none-any.whl (20 kB)\n",
      "Collecting bitarray<1.3.0,>=1.2.1\n",
      "  Downloading bitarray-1.2.2.tar.gz (48 kB)\n",
      "\u001b[K     |████████████████████████████████| 48 kB 14.0 MB/s eta 0:00:01\n",
      "\u001b[?25hCollecting eth-keys!=0.3.2,<0.4.0,>=0.2.1\n",
      "  Downloading eth_keys-0.3.3-py3-none-any.whl (20 kB)\n",
      "Collecting eth-rlp<2,>=0.1.2\n",
      "  Downloading eth_rlp-0.2.1-py3-none-any.whl (5.0 kB)\n",
      "Collecting pycryptodome<4,>=3.6.6\n",
      "  Downloading pycryptodome-3.10.1-cp35-abi3-macosx_10_9_x86_64.whl (1.5 MB)\n",
      "\u001b[K     |████████████████████████████████| 1.5 MB 113.1 MB/s eta 0:00:01\n",
      "\u001b[?25hCollecting cytoolz<1.0.0,>=0.9.0\n",
      "  Downloading cytoolz-0.11.0.tar.gz (477 kB)\n",
      "\u001b[K     |████████████████████████████████| 477 kB 37.5 MB/s eta 0:00:01\n",
      "\u001b[?25hCollecting toolz>=0.8.0\n",
      "  Downloading toolz-0.11.1-py3-none-any.whl (55 kB)\n",
      "\u001b[K     |████████████████████████████████| 55 kB 21.6 MB/s eta 0:00:01\n",
      "\u001b[?25hRequirement already satisfied: setuptools in /opt/homebrew/Caskroom/miniconda/base/envs/default/lib/python3.9/site-packages (from jsonschema<4.0.0,>=3.2.0->web3) (52.0.0.post20210125)\n",
      "Requirement already satisfied: pyrsistent>=0.14.0 in /opt/homebrew/Caskroom/miniconda/base/envs/default/lib/python3.9/site-packages (from jsonschema<4.0.0,>=3.2.0->web3) (0.17.3)\n",
      "Requirement already satisfied: six>=1.11.0 in /opt/homebrew/Caskroom/miniconda/base/envs/default/lib/python3.9/site-packages (from jsonschema<4.0.0,>=3.2.0->web3) (1.16.0)\n",
      "Collecting netaddr\n",
      "  Downloading netaddr-0.8.0-py2.py3-none-any.whl (1.9 MB)\n",
      "\u001b[K     |████████████████████████████████| 1.9 MB 43.5 MB/s eta 0:00:01\n",
      "\u001b[?25hCollecting base58\n",
      "  Downloading base58-2.1.0-py3-none-any.whl (5.6 kB)\n",
      "Collecting varint\n",
      "  Downloading varint-1.0.2.tar.gz (1.9 kB)\n",
      "Requirement already satisfied: urllib3<1.27,>=1.21.1 in /opt/homebrew/Caskroom/miniconda/base/envs/default/lib/python3.9/site-packages (from requests<3.0.0,>=2.16.0->web3) (1.26.5)\n",
      "Requirement already satisfied: idna<3,>=2.5 in /opt/homebrew/Caskroom/miniconda/base/envs/default/lib/python3.9/site-packages (from requests<3.0.0,>=2.16.0->web3) (2.10)\n",
      "Requirement already satisfied: certifi>=2017.4.17 in /opt/homebrew/Caskroom/miniconda/base/envs/default/lib/python3.9/site-packages (from requests<3.0.0,>=2.16.0->web3) (2021.5.30)\n",
      "Building wheels for collected packages: bitarray, cytoolz, lru-dict, parsimonious, varint\n",
      "  Building wheel for bitarray (setup.py) ... \u001b[?25ldone\n",
      "\u001b[?25h  Created wheel for bitarray: filename=bitarray-1.2.2-cp39-cp39-macosx_10_9_x86_64.whl size=48797 sha256=da6d95367020654b814ac83fb16c47ff2923416e5c3040126818cb7166ae44a1\n",
      "  Stored in directory: /Users/jasonsohn/Library/Caches/pip/wheels/f6/b3/8d/0bb7212600c4671dcb713dec6574c37b118c2c321e6ed52fe3\n",
      "  Building wheel for cytoolz (setup.py) ... \u001b[?25ldone\n",
      "\u001b[?25h  Created wheel for cytoolz: filename=cytoolz-0.11.0-cp39-cp39-macosx_10_9_x86_64.whl size=369279 sha256=8d8c7e93b1368d69f279ebfc10e7281dc0684566201ba19dde98c4ace3199479\n",
      "  Stored in directory: /Users/jasonsohn/Library/Caches/pip/wheels/44/32/8a/20fd18c5c2980d618d0170f871d5de63729c398569ff8595e0\n",
      "  Building wheel for lru-dict (setup.py) ... \u001b[?25ldone\n",
      "\u001b[?25h  Created wheel for lru-dict: filename=lru_dict-1.1.7-cp39-cp39-macosx_10_9_x86_64.whl size=8754 sha256=fa2f1ca102dca833923e05b7d35ec96a98f76684ea7d8b786532652f2904f77b\n",
      "  Stored in directory: /Users/jasonsohn/Library/Caches/pip/wheels/86/3f/f6/6efebdbc72403e91c39f8cc817f61627d065eed97921b8e5b8\n",
      "  Building wheel for parsimonious (setup.py) ... \u001b[?25ldone\n",
      "\u001b[?25h  Created wheel for parsimonious: filename=parsimonious-0.8.1-py3-none-any.whl size=42709 sha256=2c10008a3687de8d0230aa389aac406596866e18f46b7fee7118622ce89d72a2\n",
      "  Stored in directory: /Users/jasonsohn/Library/Caches/pip/wheels/ae/3f/87/24298980f6c0436680b8b64caac154f542e138487ed0f90f2a\n",
      "  Building wheel for varint (setup.py) ... \u001b[?25ldone\n",
      "\u001b[?25h  Created wheel for varint: filename=varint-1.0.2-py3-none-any.whl size=1978 sha256=f1285ac9412d1db2e6cf139deeb843d60f19c0f914c71ae4b23e6c916b2b18b7\n",
      "  Stored in directory: /Users/jasonsohn/Library/Caches/pip/wheels/4b/47/bb/e4fd5cf6101ed8d6a9c52ff50e37bfb908ffdf330ddbbf9550\n",
      "Successfully built bitarray cytoolz lru-dict parsimonious varint\n",
      "Installing collected packages: toolz, eth-typing, eth-hash, cytoolz, eth-utils, varint, rlp, pycryptodome, parsimonious, netaddr, multidict, hexbytes, eth-keys, base58, yarl, multiaddr, eth-rlp, eth-keyfile, eth-abi, bitarray, async-timeout, websockets, protobuf, lru-dict, ipfshttpclient, eth-account, aiohttp, web3\n",
      "Successfully installed aiohttp-3.7.4.post0 async-timeout-3.0.1 base58-2.1.0 bitarray-1.2.2 cytoolz-0.11.0 eth-abi-2.1.1 eth-account-0.5.5 eth-hash-0.3.1 eth-keyfile-0.5.1 eth-keys-0.3.3 eth-rlp-0.2.1 eth-typing-2.2.2 eth-utils-1.10.0 hexbytes-0.2.1 ipfshttpclient-0.7.0 lru-dict-1.1.7 multiaddr-0.0.9 multidict-5.1.0 netaddr-0.8.0 parsimonious-0.8.1 protobuf-3.17.3 pycryptodome-3.10.1 rlp-2.0.1 toolz-0.11.1 varint-1.0.2 web3-5.21.0 websockets-9.1 yarl-1.6.3\n"
     ]
    }
   ],
   "source": [
    "!pip install web3"
   ]
  },
  {
   "cell_type": "code",
   "execution_count": 10,
   "id": "5f9a107a-71c1-4d1e-973a-a739c50768d4",
   "metadata": {},
   "outputs": [
    {
     "name": "stdout",
     "output_type": "stream",
     "text": [
      "Requirement already satisfied: web3[tester] in /opt/homebrew/Caskroom/miniconda/base/envs/default/lib/python3.9/site-packages (5.21.0)\n",
      "Requirement already satisfied: lru-dict<2.0.0,>=1.1.6 in /opt/homebrew/Caskroom/miniconda/base/envs/default/lib/python3.9/site-packages (from web3[tester]) (1.1.7)\n",
      "Requirement already satisfied: eth-hash[pycryptodome]<1.0.0,>=0.2.0 in /opt/homebrew/Caskroom/miniconda/base/envs/default/lib/python3.9/site-packages (from web3[tester]) (0.3.1)\n",
      "Requirement already satisfied: websockets<10,>=9.1 in /opt/homebrew/Caskroom/miniconda/base/envs/default/lib/python3.9/site-packages (from web3[tester]) (9.1)\n",
      "Requirement already satisfied: jsonschema<4.0.0,>=3.2.0 in /opt/homebrew/Caskroom/miniconda/base/envs/default/lib/python3.9/site-packages (from web3[tester]) (3.2.0)\n",
      "Requirement already satisfied: requests<3.0.0,>=2.16.0 in /opt/homebrew/Caskroom/miniconda/base/envs/default/lib/python3.9/site-packages (from web3[tester]) (2.25.1)\n",
      "Requirement already satisfied: eth-typing<3.0.0,>=2.0.0 in /opt/homebrew/Caskroom/miniconda/base/envs/default/lib/python3.9/site-packages (from web3[tester]) (2.2.2)\n",
      "Requirement already satisfied: hexbytes<1.0.0,>=0.1.0 in /opt/homebrew/Caskroom/miniconda/base/envs/default/lib/python3.9/site-packages (from web3[tester]) (0.2.1)\n",
      "Requirement already satisfied: eth-utils<2.0.0,>=1.9.5 in /opt/homebrew/Caskroom/miniconda/base/envs/default/lib/python3.9/site-packages (from web3[tester]) (1.10.0)\n",
      "Requirement already satisfied: ipfshttpclient==0.7.0 in /opt/homebrew/Caskroom/miniconda/base/envs/default/lib/python3.9/site-packages (from web3[tester]) (0.7.0)\n",
      "Requirement already satisfied: aiohttp<4,>=3.7.4.post0 in /opt/homebrew/Caskroom/miniconda/base/envs/default/lib/python3.9/site-packages (from web3[tester]) (3.7.4.post0)\n",
      "Requirement already satisfied: protobuf<4,>=3.10.0 in /opt/homebrew/Caskroom/miniconda/base/envs/default/lib/python3.9/site-packages (from web3[tester]) (3.17.3)\n",
      "Requirement already satisfied: eth-account<0.6.0,>=0.5.3 in /opt/homebrew/Caskroom/miniconda/base/envs/default/lib/python3.9/site-packages (from web3[tester]) (0.5.5)\n",
      "Requirement already satisfied: eth-abi<3.0.0,>=2.0.0b6 in /opt/homebrew/Caskroom/miniconda/base/envs/default/lib/python3.9/site-packages (from web3[tester]) (2.1.1)\n",
      "Collecting py-geth<4,>=3.2.0\n",
      "  Downloading py_geth-3.3.0-py3-none-any.whl (22 kB)\n",
      "Collecting eth-tester[py-evm]==v0.5.0-beta.4\n",
      "  Downloading eth_tester-0.5.0b4-py3-none-any.whl (59 kB)\n",
      "\u001b[K     |████████████████████████████████| 59 kB 1.8 MB/s eta 0:00:01\n",
      "\u001b[?25hRequirement already satisfied: eth-keys<0.4.0,>=0.2.1 in /opt/homebrew/Caskroom/miniconda/base/envs/default/lib/python3.9/site-packages (from eth-tester[py-evm]==v0.5.0-beta.4->web3[tester]) (0.3.3)\n",
      "Requirement already satisfied: rlp<3,>=1.1.0 in /opt/homebrew/Caskroom/miniconda/base/envs/default/lib/python3.9/site-packages (from eth-tester[py-evm]==v0.5.0-beta.4->web3[tester]) (2.0.1)\n",
      "Collecting semantic-version<3.0.0,>=2.6.0\n",
      "  Downloading semantic_version-2.8.5-py2.py3-none-any.whl (15 kB)\n",
      "Collecting py-evm==0.4.0a4\n",
      "  Downloading py_evm-0.4.0a4-py3-none-any.whl (258 kB)\n",
      "\u001b[K     |████████████████████████████████| 258 kB 8.8 MB/s eta 0:00:01\n",
      "\u001b[?25hRequirement already satisfied: multiaddr>=0.0.7 in /opt/homebrew/Caskroom/miniconda/base/envs/default/lib/python3.9/site-packages (from ipfshttpclient==0.7.0->web3[tester]) (0.0.9)\n",
      "Collecting trie==2.0.0-alpha.5\n",
      "  Downloading trie-2.0.0a5-py3-none-any.whl (38 kB)\n",
      "Collecting blake2b-py<0.2,>=0.1.4\n",
      "  Downloading blake2b_py-0.1.4-cp39-cp39-macosx_10_7_x86_64.whl (146 kB)\n",
      "\u001b[K     |████████████████████████████████| 146 kB 32.6 MB/s eta 0:00:01\n",
      "\u001b[?25hCollecting cached-property<2,>=1.5.1\n",
      "  Downloading cached_property-1.5.2-py2.py3-none-any.whl (7.6 kB)\n",
      "Collecting py-ecc<5.0.0,>=1.4.7\n",
      "  Downloading py_ecc-4.1.0-py3-none-any.whl (41 kB)\n",
      "\u001b[K     |████████████████████████████████| 41 kB 2.9 MB/s  eta 0:00:01\n",
      "\u001b[?25hCollecting mypy-extensions<1.0.0,>=0.4.1\n",
      "  Downloading mypy_extensions-0.4.3-py2.py3-none-any.whl (4.5 kB)\n",
      "Collecting eth-bloom<2.0.0,>=1.0.3\n",
      "  Downloading eth_bloom-1.0.4-py3-none-any.whl (5.4 kB)\n",
      "Collecting pyethash<1.0.0,>=0.1.27\n",
      "  Downloading pyethash-0.1.27.tar.gz (38 kB)\n",
      "Requirement already satisfied: typing-extensions<4,>=3.7.4 in /opt/homebrew/Caskroom/miniconda/base/envs/default/lib/python3.9/site-packages (from trie==2.0.0-alpha.5->py-evm==0.4.0a4->eth-tester[py-evm]==v0.5.0-beta.4->web3[tester]) (3.10.0.0)\n",
      "Collecting sortedcontainers<3,>=2.1.0\n",
      "  Downloading sortedcontainers-2.4.0-py2.py3-none-any.whl (29 kB)\n",
      "Requirement already satisfied: attrs>=17.3.0 in /opt/homebrew/Caskroom/miniconda/base/envs/default/lib/python3.9/site-packages (from aiohttp<4,>=3.7.4.post0->web3[tester]) (21.2.0)\n",
      "Requirement already satisfied: multidict<7.0,>=4.5 in /opt/homebrew/Caskroom/miniconda/base/envs/default/lib/python3.9/site-packages (from aiohttp<4,>=3.7.4.post0->web3[tester]) (5.1.0)\n",
      "Requirement already satisfied: chardet<5.0,>=2.0 in /opt/homebrew/Caskroom/miniconda/base/envs/default/lib/python3.9/site-packages (from aiohttp<4,>=3.7.4.post0->web3[tester]) (4.0.0)\n",
      "Requirement already satisfied: yarl<2.0,>=1.0 in /opt/homebrew/Caskroom/miniconda/base/envs/default/lib/python3.9/site-packages (from aiohttp<4,>=3.7.4.post0->web3[tester]) (1.6.3)\n",
      "Requirement already satisfied: async-timeout<4.0,>=3.0 in /opt/homebrew/Caskroom/miniconda/base/envs/default/lib/python3.9/site-packages (from aiohttp<4,>=3.7.4.post0->web3[tester]) (3.0.1)\n",
      "Requirement already satisfied: parsimonious<0.9.0,>=0.8.0 in /opt/homebrew/Caskroom/miniconda/base/envs/default/lib/python3.9/site-packages (from eth-abi<3.0.0,>=2.0.0b6->web3[tester]) (0.8.1)\n",
      "Requirement already satisfied: eth-keyfile<0.6.0,>=0.5.0 in /opt/homebrew/Caskroom/miniconda/base/envs/default/lib/python3.9/site-packages (from eth-account<0.6.0,>=0.5.3->web3[tester]) (0.5.1)\n",
      "Requirement already satisfied: bitarray<1.3.0,>=1.2.1 in /opt/homebrew/Caskroom/miniconda/base/envs/default/lib/python3.9/site-packages (from eth-account<0.6.0,>=0.5.3->web3[tester]) (1.2.2)\n",
      "Requirement already satisfied: eth-rlp<2,>=0.1.2 in /opt/homebrew/Caskroom/miniconda/base/envs/default/lib/python3.9/site-packages (from eth-account<0.6.0,>=0.5.3->web3[tester]) (0.2.1)\n",
      "Requirement already satisfied: pycryptodome<4,>=3.6.6 in /opt/homebrew/Caskroom/miniconda/base/envs/default/lib/python3.9/site-packages (from eth-hash[pycryptodome]<1.0.0,>=0.2.0->web3[tester]) (3.10.1)\n",
      "Collecting pysha3<2.0.0,>=1.0.0\n",
      "  Downloading pysha3-1.0.2.tar.gz (829 kB)\n",
      "\u001b[K     |████████████████████████████████| 829 kB 19.9 MB/s eta 0:00:01\n",
      "\u001b[?25hRequirement already satisfied: cytoolz<1.0.0,>=0.9.0 in /opt/homebrew/Caskroom/miniconda/base/envs/default/lib/python3.9/site-packages (from eth-keyfile<0.6.0,>=0.5.0->eth-account<0.6.0,>=0.5.3->web3[tester]) (0.11.0)\n",
      "Requirement already satisfied: toolz>=0.8.0 in /opt/homebrew/Caskroom/miniconda/base/envs/default/lib/python3.9/site-packages (from cytoolz<1.0.0,>=0.9.0->eth-keyfile<0.6.0,>=0.5.0->eth-account<0.6.0,>=0.5.3->web3[tester]) (0.11.1)\n",
      "Requirement already satisfied: six>=1.11.0 in /opt/homebrew/Caskroom/miniconda/base/envs/default/lib/python3.9/site-packages (from jsonschema<4.0.0,>=3.2.0->web3[tester]) (1.16.0)\n",
      "Requirement already satisfied: setuptools in /opt/homebrew/Caskroom/miniconda/base/envs/default/lib/python3.9/site-packages (from jsonschema<4.0.0,>=3.2.0->web3[tester]) (52.0.0.post20210125)\n",
      "Requirement already satisfied: pyrsistent>=0.14.0 in /opt/homebrew/Caskroom/miniconda/base/envs/default/lib/python3.9/site-packages (from jsonschema<4.0.0,>=3.2.0->web3[tester]) (0.17.3)\n",
      "Requirement already satisfied: netaddr in /opt/homebrew/Caskroom/miniconda/base/envs/default/lib/python3.9/site-packages (from multiaddr>=0.0.7->ipfshttpclient==0.7.0->web3[tester]) (0.8.0)\n",
      "Requirement already satisfied: base58 in /opt/homebrew/Caskroom/miniconda/base/envs/default/lib/python3.9/site-packages (from multiaddr>=0.0.7->ipfshttpclient==0.7.0->web3[tester]) (2.1.0)\n",
      "Requirement already satisfied: varint in /opt/homebrew/Caskroom/miniconda/base/envs/default/lib/python3.9/site-packages (from multiaddr>=0.0.7->ipfshttpclient==0.7.0->web3[tester]) (1.0.2)\n",
      "Requirement already satisfied: urllib3<1.27,>=1.21.1 in /opt/homebrew/Caskroom/miniconda/base/envs/default/lib/python3.9/site-packages (from requests<3.0.0,>=2.16.0->web3[tester]) (1.26.5)\n",
      "Requirement already satisfied: idna<3,>=2.5 in /opt/homebrew/Caskroom/miniconda/base/envs/default/lib/python3.9/site-packages (from requests<3.0.0,>=2.16.0->web3[tester]) (2.10)\n",
      "Requirement already satisfied: certifi>=2017.4.17 in /opt/homebrew/Caskroom/miniconda/base/envs/default/lib/python3.9/site-packages (from requests<3.0.0,>=2.16.0->web3[tester]) (2021.5.30)\n",
      "Building wheels for collected packages: pyethash, pysha3\n",
      "  Building wheel for pyethash (setup.py) ... \u001b[?25ldone\n",
      "\u001b[?25h  Created wheel for pyethash: filename=pyethash-0.1.27-cp39-cp39-macosx_10_9_x86_64.whl size=21846 sha256=c16c57defb5649e3835529bb3d7e8ae8d277c839798d1bb3152ac2678593cee9\n",
      "  Stored in directory: /Users/jasonsohn/Library/Caches/pip/wheels/4c/18/f0/cd1732ca0b05b39f2bcdf668b335811e89e74f46e8ca19efaf\n",
      "  Building wheel for pysha3 (setup.py) ... \u001b[?25ldone\n",
      "\u001b[?25h  Created wheel for pysha3: filename=pysha3-1.0.2-cp39-cp39-macosx_10_9_x86_64.whl size=45316 sha256=c1cd2a08c4abd81011db5011d129239a366b8a0fd8c5174ccab9f46cdebc4581\n",
      "  Stored in directory: /Users/jasonsohn/Library/Caches/pip/wheels/17/9d/00/86e22a32b0109bd3c8797adf13a74427aa38e6ad1135633d50\n",
      "Successfully built pyethash pysha3\n",
      "Installing collected packages: sortedcontainers, mypy-extensions, cached-property, trie, semantic-version, pysha3, pyethash, py-ecc, eth-bloom, blake2b-py, py-evm, eth-tester, py-geth\n",
      "Successfully installed blake2b-py-0.1.4 cached-property-1.5.2 eth-bloom-1.0.4 eth-tester-0.5.0b4 mypy-extensions-0.4.3 py-ecc-4.1.0 py-evm-0.4.0a4 py-geth-3.3.0 pyethash-0.1.27 pysha3-1.0.2 semantic-version-2.8.5 sortedcontainers-2.4.0 trie-2.0.0a5\n"
     ]
    }
   ],
   "source": [
    "!pip install 'web3[tester]' # for simulating blockchain"
   ]
  },
  {
   "cell_type": "code",
   "execution_count": 11,
   "id": "fd5c4981-f805-4997-9b83-94d6a8af5b43",
   "metadata": {},
   "outputs": [],
   "source": [
    "from web3 import Web3"
   ]
  },
  {
   "cell_type": "markdown",
   "id": "a6d25d48-08a1-4c53-8e5c-9e68d9c014dc",
   "metadata": {},
   "source": [
    "### Convenience functions in Web3"
   ]
  },
  {
   "cell_type": "code",
   "execution_count": 12,
   "id": "1a45f03b-8b48-4727-b3c7-1ae3468ffcb0",
   "metadata": {},
   "outputs": [
    {
     "data": {
      "text/plain": [
       "1000000000000000000"
      ]
     },
     "execution_count": 12,
     "metadata": {},
     "output_type": "execute_result"
    }
   ],
   "source": [
    "Web3.toWei(1, 'ether')"
   ]
  },
  {
   "cell_type": "code",
   "execution_count": 13,
   "id": "8e95a14e-ca45-4433-8dd0-9df02094cf7d",
   "metadata": {},
   "outputs": [
    {
     "data": {
      "text/plain": [
       "Decimal('3000')"
      ]
     },
     "execution_count": 13,
     "metadata": {},
     "output_type": "execute_result"
    }
   ],
   "source": [
    "Web3.fromWei(3000000000000, 'gwei')"
   ]
  },
  {
   "cell_type": "code",
   "execution_count": null,
   "id": "09a50e86-6a2e-4ec8-9bbd-4812a8e1c6d6",
   "metadata": {},
   "outputs": [],
   "source": []
  }
 ],
 "metadata": {
  "kernelspec": {
   "display_name": "Python 3",
   "language": "python",
   "name": "python3"
  },
  "language_info": {
   "codemirror_mode": {
    "name": "ipython",
    "version": 3
   },
   "file_extension": ".py",
   "mimetype": "text/x-python",
   "name": "python",
   "nbconvert_exporter": "python",
   "pygments_lexer": "ipython3",
   "version": "3.9.5"
  }
 },
 "nbformat": 4,
 "nbformat_minor": 5
}
