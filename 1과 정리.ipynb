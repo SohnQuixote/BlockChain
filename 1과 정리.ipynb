{
 "cells": [
  {
   "cell_type": "markdown",
   "id": "ecd7fe95",
   "metadata": {},
   "source": [
    "# 키워드\n",
    "#### 분산 시스템, 분산 원장 기술(distributed ledger technology) , 탈 중앙화, 스마트 계약"
   ]
  },
  {
   "cell_type": "markdown",
   "id": "193ce006",
   "metadata": {},
   "source": [
    "# 분산 시스템\n",
    "### 둘 이상의 노드가 공동으로 결과를 얻기 위해 조율하며 함께 동작하는 컴퓨팅 패러다임\n",
    "### 노드 <- 분산 시스템의 개별 참가자\n",
    "### CAP 정리 - 분산 시스템은 정합성, 가용성, 분할 허용성 동시 만족 X"
   ]
  },
  {
   "cell_type": "markdown",
   "id": "616af22b",
   "metadata": {},
   "source": [
    "# 블록 체인\n",
    "### 비트코인으로 첫 시작\n",
    "### p2p network로 중앙서버 제거\n",
    "### 분산 원장 - 원장이 네트워크의 모든 피어에 분산 각 피어가 전체 원장의 사본 보유\n",
    "### <b>추가만 허용 </b> 제거 불가능\n",
    "### 합의 알고리즘이 가장 중요함 블록체인 네트워크에 따라 다른 합의 알고리즘을 지니고 있음\n",
    "### 스마트 계약으로 네트워크에 비즈니스 로직을 적용 가능 <- 자동화"
   ]
  },
  {
   "cell_type": "markdown",
   "id": "f3f45dfc",
   "metadata": {},
   "source": [
    "# 합의 프로토콜\n",
    "### 작업 증명 -> 수용할 값 제안 전에 컴퓨팅 자원을 소모했다는 것을 증명 -> 채굴자\n",
    "### 지분 증명\n",
    "### 경과 시간 증명\n",
    "### 이외에도 많은 합의 프로토콜이 존재..."
   ]
  },
  {
   "cell_type": "markdown",
   "id": "182c846b",
   "metadata": {},
   "source": [
    "# CAP 정리\n",
    "### 가용성, 분할 허용성은 만족하나 정합성은 바로 만족하지 못함\n",
    "### 이는 지속적인 작업을 통하여 최종정합성을 만족하는 것으로 해결함"
   ]
  },
  {
   "cell_type": "markdown",
   "id": "ccdc6d71",
   "metadata": {},
   "source": [
    "# 과제\n",
    "### 비트코인 및 이더리움 등 이미 개발된 블록체인 네트워크들을 살펴봐 기본적인 이해를 높이고\n",
    "### 여러 합의 프로토콜 및 암호화 과정들을 이해해 자신만의 블록체인을 개발하도록 한다."
   ]
  },
  {
   "cell_type": "markdown",
   "id": "a89711ed",
   "metadata": {},
   "source": []
  },
  {
   "cell_type": "markdown",
   "id": "93b7bbff",
   "metadata": {},
   "source": []
  }
 ],
 "metadata": {
  "kernelspec": {
   "display_name": "Python 3",
   "language": "python",
   "name": "python3"
  },
  "language_info": {
   "codemirror_mode": {
    "name": "ipython",
    "version": 3
   },
   "file_extension": ".py",
   "mimetype": "text/x-python",
   "name": "python",
   "nbconvert_exporter": "python",
   "pygments_lexer": "ipython3",
   "version": "3.8.8"
  }
 },
 "nbformat": 4,
 "nbformat_minor": 5
}
